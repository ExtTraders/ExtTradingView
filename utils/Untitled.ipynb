{
 "cells": [
  {
   "cell_type": "code",
   "execution_count": 34,
   "id": "16130662-9de3-4a48-ba53-8cc60269b0de",
   "metadata": {},
   "outputs": [
    {
     "name": "stdout",
     "output_type": "stream",
     "text": [
      "access_key:  gAAAAABoMZs2cCorWKqRww0Lo-GzKpZFzFmx0qNU_pzDVe9IJOj-QAO3GFJ6z7NJCA4viTm_qH8Qte20O1gJotQ3xDez4DWUiTvl4oLrfoIfxJdOT_XTyx4=\n",
      "secret_key:  gAAAAABoMZs2sk7n9Z_3uE43aGkoFw99sr8ZSnYlaxSKmPL37lsPh_06-lk5PIgt-SsTgAYfZmwyZ-auIZVU7CecadvUhjPWE9ugttaI6kuQPP-CGQRRU85G8PvUuzuz-QJlFtyAUgdn\n",
      "access_key:  WXqhVrILLkl3E9s0aT\n",
      "secret_key:  LwX8gqcw1MLTt5AbyG71rhbF8Pymgd7qABuF\n"
     ]
    }
   ],
   "source": [
    "from cryptography.fernet import Fernet\n",
    "\n",
    "class SimpleEnDecrypt:\n",
    "    def __init__(self, key=None):\n",
    "        if key is None: # 키가 없다면\n",
    "            key = Fernet.generate_key() # 키를 생성한다\n",
    "        self.key = key\n",
    "        self.f   = Fernet(self.key)\n",
    "    \n",
    "    def encrypt(self, data, is_out_string=True):\n",
    "        if isinstance(data, bytes):\n",
    "            ou = self.f.encrypt(data) # 바이트형태이면 바로 암호화\n",
    "        else:\n",
    "            ou = self.f.encrypt(data.encode('utf-8')) # 인코딩 후 암호화\n",
    "        if is_out_string is True:\n",
    "            return ou.decode('utf-8') # 출력이 문자열이면 디코딩 후 반환\n",
    "        else:\n",
    "            return ou\n",
    "        \n",
    "    def decrypt(self, data, is_out_string=True):\n",
    "        if isinstance(data, bytes):\n",
    "            ou = self.f.decrypt(data) # 바이트형태이면 바로 복호화\n",
    "        else:\n",
    "            ou = self.f.decrypt(data.encode('utf-8')) # 인코딩 후 복호화\n",
    "        if is_out_string is True:\n",
    "            return ou.decode('utf-8') # 출력이 문자열이면 디코딩 후 반환\n",
    "        else:\n",
    "            return ou\n",
    "\n",
    "         \n",
    "\n",
    "simpleEnDecrypt = SimpleEnDecrypt(b'PUGYnyStZ0T_ujxskqMoewg2W1iuCp2m8LiQl0fntN8=') #ende_key.py 에 있는 키를 넣으세요\n",
    "\n",
    "access = \"WXqhVrILLkl3E9s0aT\"          # 본인 값으로 변경\n",
    "secret = \"LwX8gqcw1MLTt5AbyG71rhbF8Pymgd7qABuF\"          # 본인 값으로 변경\n",
    "\n",
    "en_access = simpleEnDecrypt.encrypt(access)\n",
    "en_secret = simpleEnDecrypt.encrypt(secret)\n",
    "print(\"access_key: \", en_access)\n",
    "print(\"secret_key: \", en_secret)\n",
    "\n",
    "de_access = simpleEnDecrypt.decrypt(en_access)\n",
    "de_secret = simpleEnDecrypt.decrypt(en_secret)\n",
    "print(\"access_key: \", de_access)\n",
    "print(\"secret_key: \", de_secret)\n"
   ]
  },
  {
   "cell_type": "code",
   "execution_count": 14,
   "id": "a8491d41-4d8e-4fc2-bb78-0f62370d58c6",
   "metadata": {},
   "outputs": [
    {
     "name": "stdout",
     "output_type": "stream",
     "text": [
      "b'PUGYnyStZ0T_ujxskqMoewg2W1iuCp2m8LiQl0fntN8='\n"
     ]
    }
   ],
   "source": [
    "from cryptography.fernet import Fernet\n",
    "\n",
    "Key = Fernet.generate_key()\n",
    "\n",
    "print(Key)"
   ]
  }
 ],
 "metadata": {
  "kernelspec": {
   "display_name": "Python 3 (ipykernel)",
   "language": "python",
   "name": "python3"
  },
  "language_info": {
   "codemirror_mode": {
    "name": "ipython",
    "version": 3
   },
   "file_extension": ".py",
   "mimetype": "text/x-python",
   "name": "python",
   "nbconvert_exporter": "python",
   "pygments_lexer": "ipython3",
   "version": "3.12.3"
  }
 },
 "nbformat": 4,
 "nbformat_minor": 5
}
